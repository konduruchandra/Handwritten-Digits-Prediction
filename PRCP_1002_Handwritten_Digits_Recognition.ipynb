{
  "nbformat": 4,
  "nbformat_minor": 0,
  "metadata": {
    "colab": {
      "provenance": [],
      "include_colab_link": true
    },
    "kernelspec": {
      "name": "python3",
      "display_name": "Python 3"
    },
    "language_info": {
      "name": "python"
    }
  },
  "cells": [
    {
      "cell_type": "markdown",
      "metadata": {
        "id": "view-in-github",
        "colab_type": "text"
      },
      "source": [
        "<a href=\"https://colab.research.google.com/github/konduruchandra/Handwritten-Digits-Prediction/blob/main/PRCP_1002_Handwritten_Digits_Recognition.ipynb\" target=\"_parent\"><img src=\"https://colab.research.google.com/assets/colab-badge.svg\" alt=\"Open In Colab\"/></a>"
      ]
    },
    {
      "cell_type": "code",
      "execution_count": null,
      "metadata": {
        "id": "PcFtS819mRv0"
      },
      "outputs": [],
      "source": [
        "import numpy as np\n",
        "import matplotlib.pyplot as plt\n",
        "import seaborn as sns\n",
        "\n",
        "from sklearn.model_selection import train_test_split\n",
        "from sklearn.metrics import classification_report, confusion_matrix, accuracy_score\n",
        "\n",
        "from sklearn.linear_model import LogisticRegression\n",
        "from sklearn.svm import SVC\n",
        "from sklearn.ensemble import RandomForestClassifier\n",
        "from sklearn.neighbors import KNeighborsClassifier\n",
        "\n",
        "import tensorflow as tf\n",
        "from tensorflow.keras.datasets import mnist\n",
        "from tensorflow.keras.models import Sequential\n",
        "from tensorflow.keras.layers import Dense, Flatten\n",
        "from tensorflow.keras.utils import to_categorical"
      ]
    },
    {
      "cell_type": "code",
      "source": [
        "# Load MNIST dataset\n",
        "(X_train, y_train), (X_test, y_test) = mnist.load_data()\n",
        "\n",
        "# Normalize input to [0,1]\n",
        "X_train = X_train / 255.0\n",
        "X_test = X_test / 255.0\n",
        "\n",
        "# Flatten for classical ML models (784 features)\n",
        "X_train_flat = X_train.reshape(len(X_train), -1)\n",
        "X_test_flat = X_test.reshape(len(X_test), -1)"
      ],
      "metadata": {
        "colab": {
          "base_uri": "https://localhost:8080/"
        },
        "id": "uNOuXvk-mT9E",
        "outputId": "c56dd6c3-e009-4305-c7ca-15bcbf3d5786"
      },
      "execution_count": null,
      "outputs": [
        {
          "output_type": "stream",
          "name": "stdout",
          "text": [
            "Downloading data from https://storage.googleapis.com/tensorflow/tf-keras-datasets/mnist.npz\n",
            "\u001b[1m11490434/11490434\u001b[0m \u001b[32m━━━━━━━━━━━━━━━━━━━━\u001b[0m\u001b[37m\u001b[0m \u001b[1m0s\u001b[0m 0us/step\n"
          ]
        }
      ]
    },
    {
      "cell_type": "code",
      "source": [
        "print(\"Training set:\", X_train.shape, y_train.shape)\n",
        "print(\"Test set:\", X_test.shape, y_test.shape)"
      ],
      "metadata": {
        "colab": {
          "base_uri": "https://localhost:8080/"
        },
        "id": "JiRFaorXmmWO",
        "outputId": "20a0e0f6-e86c-4571-853b-0f9fbf342079"
      },
      "execution_count": null,
      "outputs": [
        {
          "output_type": "stream",
          "name": "stdout",
          "text": [
            "Training set: (60000, 28, 28) (60000,)\n",
            "Test set: (10000, 28, 28) (10000,)\n"
          ]
        }
      ]
    },
    {
      "cell_type": "code",
      "source": [
        "plt.figure(figsize=(10,5))\n",
        "for i in range(10):\n",
        "    plt.subplot(2, 5, i+1)\n",
        "    plt.imshow(X_train[i], cmap='gray')\n",
        "    plt.title(f\"Label: {y_train[i]}\")\n",
        "    plt.axis('off')\n",
        "plt.tight_layout()\n",
        "plt.show()"
      ],
      "metadata": {
        "colab": {
          "base_uri": "https://localhost:8080/",
          "height": 342
        },
        "id": "Xd8sTXANmsPw",
        "outputId": "4638aba5-ec57-4f43-e4e8-e86d62980fd7"
      },
      "execution_count": null,
      "outputs": [
        {
          "output_type": "display_data",
          "data": {
            "text/plain": [
              "<Figure size 1000x500 with 10 Axes>"
            ],
            "image/png": "[encoded data removed]"
          },
          "metadata": {}
        }
      ]
    },
    {
      "cell_type": "code",
      "source": [
        "models = {\n",
        "    \"Logistic Regression\": LogisticRegression(max_iter=1000),\n",
        "    \"SVM (Linear Kernel)\": SVC(kernel='linear'),\n",
        "    \"SVM (RBF Kernel)\": SVC(kernel='rbf'),\n",
        "    \"K-Nearest Neighbors\": KNeighborsClassifier(n_neighbors=3),\n",
        "    \"Random Forest\": RandomForestClassifier(n_estimators=100)\n",
        "}"
      ],
      "metadata": {
        "id": "G6M2sJRgmcDn"
      },
      "execution_count": null,
      "outputs": []
    },
    {
      "cell_type": "code",
      "source": [
        "results = {}\n",
        "\n",
        "for name, model in models.items():\n",
        "    model.fit(X_train_flat, y_train)\n",
        "    predictions = model.predict(X_test_flat)\n",
        "    acc = accuracy_score(y_test, predictions)\n",
        "    results[name] = acc\n",
        "    print(f\"\\n{name} Accuracy: {acc:.4f}\")\n",
        "    print(classification_report(y_test, predictions))"
      ],
      "metadata": {
        "colab": {
          "base_uri": "https://localhost:8080/"
        },
        "id": "EeGQ4v3TmghP",
        "outputId": "5ea9acdd-4185-419c-c764-8b24cdef93a0"
      },
      "execution_count": null,
      "outputs": [
        {
          "output_type": "stream",
          "name": "stdout",
          "text": [
            "\n",
            "Logistic Regression Accuracy: 0.9259\n",
            "              precision    recall  f1-score   support\n",
            "\n",
            "           0       0.95      0.98      0.97       980\n",
            "           1       0.96      0.98      0.97      1135\n",
            "           2       0.93      0.90      0.92      1032\n",
            "           3       0.90      0.91      0.91      1010\n",
            "           4       0.94      0.94      0.94       982\n",
            "           5       0.89      0.87      0.88       892\n",
            "           6       0.94      0.95      0.95       958\n",
            "           7       0.93      0.92      0.93      1028\n",
            "           8       0.88      0.88      0.88       974\n",
            "           9       0.91      0.92      0.91      1009\n",
            "\n",
            "    accuracy                           0.93     10000\n",
            "   macro avg       0.92      0.92      0.92     10000\n",
            "weighted avg       0.93      0.93      0.93     10000\n",
            "\n",
            "\n",
            "SVM (Linear Kernel) Accuracy: 0.9404\n",
            "              precision    recall  f1-score   support\n",
            "\n",
            "           0       0.95      0.98      0.96       980\n",
            "           1       0.97      0.99      0.98      1135\n",
            "           2       0.93      0.94      0.93      1032\n",
            "           3       0.91      0.94      0.92      1010\n",
            "           4       0.94      0.96      0.95       982\n",
            "           5       0.91      0.90      0.91       892\n",
            "           6       0.96      0.95      0.95       958\n",
            "           7       0.95      0.93      0.94      1028\n",
            "           8       0.94      0.90      0.92       974\n",
            "           9       0.95      0.91      0.93      1009\n",
            "\n",
            "    accuracy                           0.94     10000\n",
            "   macro avg       0.94      0.94      0.94     10000\n",
            "weighted avg       0.94      0.94      0.94     10000\n",
            "\n",
            "\n",
            "SVM (RBF Kernel) Accuracy: 0.9792\n",
            "              precision    recall  f1-score   support\n",
            "\n",
            "           0       0.98      0.99      0.99       980\n",
            "           1       0.99      0.99      0.99      1135\n",
            "           2       0.98      0.97      0.98      1032\n",
            "           3       0.97      0.99      0.98      1010\n",
            "           4       0.98      0.98      0.98       982\n",
            "           5       0.99      0.98      0.98       892\n",
            "           6       0.99      0.99      0.99       958\n",
            "           7       0.98      0.97      0.97      1028\n",
            "           8       0.97      0.98      0.97       974\n",
            "           9       0.97      0.96      0.97      1009\n",
            "\n",
            "    accuracy                           0.98     10000\n",
            "   macro avg       0.98      0.98      0.98     10000\n",
            "weighted avg       0.98      0.98      0.98     10000\n",
            "\n",
            "\n",
            "K-Nearest Neighbors Accuracy: 0.9705\n",
            "              precision    recall  f1-score   support\n",
            "\n",
            "           0       0.97      0.99      0.98       980\n",
            "           1       0.96      1.00      0.98      1135\n",
            "           2       0.98      0.97      0.97      1032\n",
            "           3       0.96      0.97      0.96      1010\n",
            "           4       0.98      0.97      0.97       982\n",
            "           5       0.97      0.96      0.96       892\n",
            "           6       0.98      0.99      0.98       958\n",
            "           7       0.96      0.96      0.96      1028\n",
            "           8       0.99      0.94      0.96       974\n",
            "           9       0.96      0.96      0.96      1009\n",
            "\n",
            "    accuracy                           0.97     10000\n",
            "   macro avg       0.97      0.97      0.97     10000\n",
            "weighted avg       0.97      0.97      0.97     10000\n",
            "\n",
            "\n",
            "Random Forest Accuracy: 0.9703\n",
            "              precision    recall  f1-score   support\n",
            "\n",
            "           0       0.97      0.99      0.98       980\n",
            "           1       0.99      0.99      0.99      1135\n",
            "           2       0.96      0.97      0.96      1032\n",
            "           3       0.97      0.96      0.96      1010\n",
            "           4       0.97      0.97      0.97       982\n",
            "           5       0.97      0.96      0.97       892\n",
            "           6       0.97      0.98      0.98       958\n",
            "           7       0.97      0.97      0.97      1028\n",
            "           8       0.96      0.96      0.96       974\n",
            "           9       0.96      0.95      0.96      1009\n",
            "\n",
            "    accuracy                           0.97     10000\n",
            "   macro avg       0.97      0.97      0.97     10000\n",
            "weighted avg       0.97      0.97      0.97     10000\n",
            "\n"
          ]
        }
      ]
    },
    {
      "cell_type": "code",
      "source": [
        "# One-hot encode the labels\n",
        "y_train_oh = to_categorical(y_train)\n",
        "y_test_oh = to_categorical(y_test)\n",
        "\n",
        "# Define a simple feedforward neural network\n",
        "dl_model = Sequential([\n",
        "    Flatten(input_shape=(28, 28)),\n",
        "    Dense(128, activation='relu'),\n",
        "    Dense(64, activation='relu'),\n",
        "    Dense(10, activation='softmax')\n",
        "])\n",
        "\n",
        "dl_model.compile(optimizer='adam',\n",
        "                 loss='categorical_crossentropy',\n",
        "                 metrics=['accuracy'])\n",
        "\n",
        "# Train the model\n",
        "history = dl_model.fit(X_train, y_train_oh, epochs=5,\n",
        "                       validation_data=(X_test, y_test_oh),\n",
        "                       verbose=2)\n",
        "\n",
        "# Evaluate\n",
        "dl_test_loss, dl_test_acc = dl_model.evaluate(X_test, y_test_oh)\n",
        "results[\"Deep Learning (Keras)\"] = dl_test_acc\n",
        "print(f\"\\nDeep Learning (Keras) Accuracy: {dl_test_acc:.4f}\")"
      ],
      "metadata": {
        "colab": {
          "base_uri": "https://localhost:8080/"
        },
        "id": "jhD0xY9Untxj",
        "outputId": "4482c67c-8352-4c09-9226-ed635b322fe1"
      },
      "execution_count": null,
      "outputs": [
        {
          "output_type": "stream",
          "name": "stdout",
          "text": [
            "Epoch 1/5\n",
            "1875/1875 - 5s - 2ms/step - accuracy: 0.9304 - loss: 0.2406 - val_accuracy: 0.9591 - val_loss: 0.1308\n",
            "Epoch 2/5\n",
            "1875/1875 - 5s - 3ms/step - accuracy: 0.9701 - loss: 0.0997 - val_accuracy: 0.9704 - val_loss: 0.0916\n",
            "Epoch 3/5\n",
            "1875/1875 - 4s - 2ms/step - accuracy: 0.9782 - loss: 0.0704 - val_accuracy: 0.9704 - val_loss: 0.0991\n",
            "Epoch 4/5\n",
            "1875/1875 - 4s - 2ms/step - accuracy: 0.9827 - loss: 0.0540 - val_accuracy: 0.9782 - val_loss: 0.0737\n",
            "Epoch 5/5\n",
            "1875/1875 - 3s - 2ms/step - accuracy: 0.9871 - loss: 0.0407 - val_accuracy: 0.9797 - val_loss: 0.0751\n",
            "\u001b[1m313/313\u001b[0m \u001b[32m━━━━━━━━━━━━━━━━━━━━\u001b[0m\u001b[37m\u001b[0m \u001b[1m0s\u001b[0m 1ms/step - accuracy: 0.9759 - loss: 0.0837\n",
            "\n",
            "Deep Learning (Keras) Accuracy: 0.9797\n"
          ]
        }
      ]
    },
    {
      "cell_type": "code",
      "source": [
        "# Compare model accuracies\n",
        "print(\"\\nModel Comparison:\")\n",
        "for model_name in results:\n",
        "    print(f\"{model_name}: {results[model_name]*100:.2f}%\")\n",
        "\n",
        "# Plot\n",
        "sns.barplot(x=list(results.values()), y=list(results.keys()))\n",
        "plt.title(\"Model Accuracy Comparison\")\n",
        "plt.xlabel(\"Accuracy\")\n",
        "plt.xlim(0.9, 1.0)\n",
        "plt.show()"
      ],
      "metadata": {
        "colab": {
          "base_uri": "https://localhost:8080/",
          "height": 608
        },
        "id": "Buwev8RDo2xu",
        "outputId": "92afe522-83f9-4c53-b528-a54361365d9c"
      },
      "execution_count": null,
      "outputs": [
        {
          "output_type": "stream",
          "name": "stdout",
          "text": [
            "\n",
            "Model Comparison:\n",
            "Logistic Regression: 92.59%\n",
            "SVM (Linear Kernel): 94.04%\n",
            "SVM (RBF Kernel): 97.92%\n",
            "K-Nearest Neighbors: 97.05%\n",
            "Random Forest: 97.03%\n",
            "Deep Learning (Keras): 97.97%\n"
          ]
        },
        {
          "output_type": "display_data",
          "data": {
            "text/plain": [
              "<Figure size 640x480 with 1 Axes>"
            ],
            "image/png": "[encoded data removed]"
          },
          "metadata": {}
        }
      ]
    },
    {
      "cell_type": "code",
      "source": [
        "best_model = max(results, key=results.get)\n",
        "print(f\"\\nRecommended Model for Production: {best_model} with accuracy {results[best_model]*100:.2f}%\")"
      ],
      "metadata": {
        "colab": {
          "base_uri": "https://localhost:8080/"
        },
        "id": "staB6H9npDGo",
        "outputId": "624206f7-1d42-4bab-cf38-b3154324e0a5"
      },
      "execution_count": null,
      "outputs": [
        {
          "output_type": "stream",
          "name": "stdout",
          "text": [
            "\n",
            "Recommended Model for Production: Deep Learning (Keras) with accuracy 97.97%\n"
          ]
        }
      ]
    }
  ]
}